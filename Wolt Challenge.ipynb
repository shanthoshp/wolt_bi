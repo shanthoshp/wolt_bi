{
 "cells": [
  {
   "cell_type": "code",
   "execution_count": 6,
   "metadata": {},
   "outputs": [],
   "source": [
    "import pandas as pd \n",
    "from pandas import ExcelWriter\n",
    "from pandas import ExcelFile \n",
    "import numpy as np\n",
    "import math"
   ]
  },
  {
   "cell_type": "code",
   "execution_count": 7,
   "metadata": {},
   "outputs": [],
   "source": [
    "first_file_location = 'First purchases.csv'\n",
    "second_file_location = 'BI-Intern purchases.csv'\n",
    "first = pd.read_csv(first_file_location)\n",
    "second = pd.read_csv(second_file_location)"
   ]
  },
  {
   "cell_type": "code",
   "execution_count": 24,
   "metadata": {},
   "outputs": [
    {
     "name": "stdout",
     "output_type": "stream",
     "text": [
      "(71257, 5)\n",
      "<class 'pandas.core.frame.DataFrame'>\n",
      "RangeIndex: 71257 entries, 0 to 71256\n",
      "Data columns (total 5 columns):\n",
      "User First Purchase Month      71257 non-null object\n",
      "First Purchase Product Line    71257 non-null object\n",
      "User ID                        71257 non-null object\n",
      "Purchase ID                    71257 non-null object\n",
      "Venue ID                       71257 non-null object\n",
      "dtypes: object(5)\n",
      "memory usage: 2.7+ MB\n",
      "(298714, 5)\n",
      "<class 'pandas.core.frame.DataFrame'>\n",
      "RangeIndex: 298714 entries, 0 to 298713\n",
      "Data columns (total 5 columns):\n",
      "Purchases Time Delivered    298714 non-null object\n",
      "Product line                298714 non-null object\n",
      "User ID                     298714 non-null object\n",
      "Purchase ID                 298714 non-null object\n",
      "Venue ID                    298714 non-null object\n",
      "dtypes: object(5)\n",
      "memory usage: 11.4+ MB\n"
     ]
    }
   ],
   "source": [
    "print(first.shape)\n",
    "first_set = pd.DataFrame(first, columns= ['User First Purchase Month','First Purchase Product Line', 'User ID', \"Purchase ID\", \"Venue ID\"])\n",
    "first_set.drop_duplicates()\n",
    "first_set.info()\n",
    "\n",
    "\n",
    "print(second.shape)\n",
    "second_set = pd.DataFrame(second, columns= ['Purchases Time Delivered','Product line', 'User ID', \"Purchase ID\", \"Venue ID\"])\n",
    "second_set.drop_duplicates()\n",
    "second_set.info()"
   ]
  },
  {
   "cell_type": "code",
   "execution_count": 25,
   "metadata": {},
   "outputs": [],
   "source": [
    "merged_set = second_set.merge(first_set, on=['User ID', 'Purchase ID', 'Venue ID'], how='left')"
   ]
  },
  {
   "cell_type": "code",
   "execution_count": 26,
   "metadata": {},
   "outputs": [
    {
     "name": "stdout",
     "output_type": "stream",
     "text": [
      "<class 'pandas.core.frame.DataFrame'>\n",
      "Int64Index: 298714 entries, 0 to 298713\n",
      "Data columns (total 7 columns):\n",
      "Purchases Time Delivered       298714 non-null object\n",
      "Product line                   298714 non-null object\n",
      "User ID                        298714 non-null object\n",
      "Purchase ID                    298714 non-null object\n",
      "Venue ID                       298714 non-null object\n",
      "User First Purchase Month      71257 non-null object\n",
      "First Purchase Product Line    71257 non-null object\n",
      "dtypes: object(7)\n",
      "memory usage: 18.2+ MB\n"
     ]
    }
   ],
   "source": [
    "merged_set.info()"
   ]
  },
  {
   "cell_type": "code",
   "execution_count": 27,
   "metadata": {
    "scrolled": true
   },
   "outputs": [
    {
     "data": {
      "text/html": [
       "<div>\n",
       "<style scoped>\n",
       "    .dataframe tbody tr th:only-of-type {\n",
       "        vertical-align: middle;\n",
       "    }\n",
       "\n",
       "    .dataframe tbody tr th {\n",
       "        vertical-align: top;\n",
       "    }\n",
       "\n",
       "    .dataframe thead th {\n",
       "        text-align: right;\n",
       "    }\n",
       "</style>\n",
       "<table border=\"1\" class=\"dataframe\">\n",
       "  <thead>\n",
       "    <tr style=\"text-align: right;\">\n",
       "      <th></th>\n",
       "      <th>Purchases Time Delivered</th>\n",
       "      <th>Product line</th>\n",
       "      <th>User ID</th>\n",
       "      <th>Purchase ID</th>\n",
       "      <th>Venue ID</th>\n",
       "      <th>User First Purchase Month</th>\n",
       "      <th>First Purchase Product Line</th>\n",
       "    </tr>\n",
       "  </thead>\n",
       "  <tbody>\n",
       "    <tr>\n",
       "      <th>0</th>\n",
       "      <td>1.8.2020</td>\n",
       "      <td>Restaurant</td>\n",
       "      <td>55080d6585f6661a3b37f7a5</td>\n",
       "      <td>5f3d81ef6cce0eeb05225f98</td>\n",
       "      <td>5e8b2c8be050b99f26647804</td>\n",
       "      <td>NaN</td>\n",
       "      <td>NaN</td>\n",
       "    </tr>\n",
       "    <tr>\n",
       "      <th>1</th>\n",
       "      <td>1.8.2020</td>\n",
       "      <td>Restaurant</td>\n",
       "      <td>55080d6585f6661a3b37f7a5</td>\n",
       "      <td>5f3c11f5a90667e766b04c19</td>\n",
       "      <td>5e8b2c8be050b99f26647804</td>\n",
       "      <td>1.8.2020</td>\n",
       "      <td>Restaurant</td>\n",
       "    </tr>\n",
       "    <tr>\n",
       "      <th>2</th>\n",
       "      <td>1.7.2020</td>\n",
       "      <td>Retail store</td>\n",
       "      <td>556202537f84a43ac29ec7cb</td>\n",
       "      <td>5f0aec594c3cbeb4049ea36a</td>\n",
       "      <td>5ec2ab4401f812138e435c89</td>\n",
       "      <td>NaN</td>\n",
       "      <td>NaN</td>\n",
       "    </tr>\n",
       "    <tr>\n",
       "      <th>3</th>\n",
       "      <td>1.7.2020</td>\n",
       "      <td>Retail store</td>\n",
       "      <td>556202537f84a43ac29ec7cb</td>\n",
       "      <td>5f184a3c88046da058c5ed1d</td>\n",
       "      <td>5ec2ab4401f812138e435c89</td>\n",
       "      <td>NaN</td>\n",
       "      <td>NaN</td>\n",
       "    </tr>\n",
       "    <tr>\n",
       "      <th>4</th>\n",
       "      <td>1.5.2020</td>\n",
       "      <td>Restaurant</td>\n",
       "      <td>57b48aece14f6d64522f8c5f</td>\n",
       "      <td>5ecf98f34d3d68dc996dad7a</td>\n",
       "      <td>5cb4425ae93cce000d20612f</td>\n",
       "      <td>NaN</td>\n",
       "      <td>NaN</td>\n",
       "    </tr>\n",
       "  </tbody>\n",
       "</table>\n",
       "</div>"
      ],
      "text/plain": [
       "  Purchases Time Delivered  Product line                   User ID  \\\n",
       "0                 1.8.2020    Restaurant  55080d6585f6661a3b37f7a5   \n",
       "1                 1.8.2020    Restaurant  55080d6585f6661a3b37f7a5   \n",
       "2                 1.7.2020  Retail store  556202537f84a43ac29ec7cb   \n",
       "3                 1.7.2020  Retail store  556202537f84a43ac29ec7cb   \n",
       "4                 1.5.2020    Restaurant  57b48aece14f6d64522f8c5f   \n",
       "\n",
       "                Purchase ID                  Venue ID  \\\n",
       "0  5f3d81ef6cce0eeb05225f98  5e8b2c8be050b99f26647804   \n",
       "1  5f3c11f5a90667e766b04c19  5e8b2c8be050b99f26647804   \n",
       "2  5f0aec594c3cbeb4049ea36a  5ec2ab4401f812138e435c89   \n",
       "3  5f184a3c88046da058c5ed1d  5ec2ab4401f812138e435c89   \n",
       "4  5ecf98f34d3d68dc996dad7a  5cb4425ae93cce000d20612f   \n",
       "\n",
       "  User First Purchase Month First Purchase Product Line  \n",
       "0                       NaN                         NaN  \n",
       "1                  1.8.2020                  Restaurant  \n",
       "2                       NaN                         NaN  \n",
       "3                       NaN                         NaN  \n",
       "4                       NaN                         NaN  "
      ]
     },
     "execution_count": 27,
     "metadata": {},
     "output_type": "execute_result"
    }
   ],
   "source": [
    "merged_set.head()"
   ]
  },
  {
   "cell_type": "code",
   "execution_count": 28,
   "metadata": {},
   "outputs": [],
   "source": [
    "def cohertRetentionUnique(df,date, product):\n",
    "    cohort= df[(df['User First Purchase Month'] == date) & (df['First Purchase Product Line'] == product)]\n",
    "    list_cohort= cohort['User ID'].unique()\n",
    "    df_cohort= df[df['User ID'].isin(list_cohort)]\n",
    "    cohort_data=pd.DataFrame((df_cohort.groupby(['Purchases Time Delivered']).nunique()['User ID']/num_of_users*100).round(2))\n",
    "    return cohort_data"
   ]
  },
  {
   "cell_type": "code",
   "execution_count": 29,
   "metadata": {},
   "outputs": [],
   "source": [
    "def cohertPurchaseNumber(df,date, product):\n",
    "    cohort= df[(df['User First Purchase Month'] == date) & (df['First Purchase Product Line'] == product)]\n",
    "    list_cohort= cohort['User ID']\n",
    "    df_cohort= df[df['User ID'].isin(list_cohort)]\n",
    "    cohort_data=pd.DataFrame((df_cohort.groupby(['Purchases Time Delivered']).nunique()['Purchase ID']))\n",
    "    return cohort_data"
   ]
  },
  {
   "cell_type": "code",
   "execution_count": 78,
   "metadata": {},
   "outputs": [],
   "source": [
    "def cohertVenue(df,date, product):\n",
    "    cohort= df[(df['Purchases Time Delivered'] == date) & (df['Product line'] == product)]\n",
    "    list_cohort= cohort['Venue ID'].unique()\n",
    "    df_cohort= df[df['Venue ID'].isin(list_cohort)]\n",
    "    cohort_data=pd.DataFrame((df_cohort.groupby(['Venue ID']).nunique()['Purchase ID']))\n",
    "    return cohort_data"
   ]
  }
 ],
 "metadata": {
  "kernelspec": {
   "display_name": "Python 3",
   "language": "python",
   "name": "python3"
  },
  "language_info": {
   "codemirror_mode": {
    "name": "ipython",
    "version": 3
   },
   "file_extension": ".py",
   "mimetype": "text/x-python",
   "name": "python",
   "nbconvert_exporter": "python",
   "pygments_lexer": "ipython3",
   "version": "3.7.1"
  }
 },
 "nbformat": 4,
 "nbformat_minor": 2
}
